{
 "cells": [
  {
   "cell_type": "code",
   "execution_count": 43,
   "metadata": {},
   "outputs": [
    {
     "data": {
      "text/plain": [
       "'C:\\\\Users\\\\sts'"
      ]
     },
     "execution_count": 43,
     "metadata": {},
     "output_type": "execute_result"
    }
   ],
   "source": [
    "pwd"
   ]
  },
  {
   "cell_type": "code",
   "execution_count": 1,
   "metadata": {},
   "outputs": [
    {
     "name": "stdout",
     "output_type": "stream",
     "text": [
      "Enter your number: 5\n",
      "120\n"
     ]
    }
   ],
   "source": [
    "# factorial \n",
    "n = int(input('Enter your number: '))\n",
    "fact = 1\n",
    "for i in range(1, n+1):\n",
    "    fact *= i \n",
    "print (fact)"
   ]
  },
  {
   "cell_type": "code",
   "execution_count": 3,
   "metadata": {},
   "outputs": [
    {
     "name": "stdout",
     "output_type": "stream",
     "text": [
      "Enter your number: 7\n",
      "7 is aaaa prime number.\n"
     ]
    }
   ],
   "source": [
    "# prime number calculation \n",
    "n = int(input('Enter your number: '))\n",
    "if n > 1:\n",
    "    if n == 2:\n",
    "        print('Two is a prime number.')\n",
    "    else:\n",
    "        for i in range(2, n):\n",
    "            if n % i == 0:\n",
    "                print(n,'is NOT a prime number.')\n",
    "                break\n",
    "        else:\n",
    "            print(n, 'is aaaa prime number.')\n",
    "                \n",
    "                \n",
    "else:\n",
    "    print(n,'(of course) is a prime number!!! ')"
   ]
  },
  {
   "cell_type": "code",
   "execution_count": 4,
   "metadata": {},
   "outputs": [
    {
     "name": "stdout",
     "output_type": "stream",
     "text": [
      "what wgiw wow and we were not dancing \n"
     ]
    },
    {
     "data": {
      "text/plain": [
       "7"
      ]
     },
     "execution_count": 4,
     "metadata": {},
     "output_type": "execute_result"
    }
   ],
   "source": [
    "# count a word from a string \n",
    "st = 'what Wgiw wow and we were not dancing '\n",
    "wd = 'w'\n",
    "a = st.lower(); print(a)\n",
    "a.count(wd)"
   ]
  },
  {
   "cell_type": "code",
   "execution_count": 6,
   "metadata": {},
   "outputs": [
    {
     "name": "stdout",
     "output_type": "stream",
     "text": [
      "WhAt wGiW WoW AnD We wErE NoT DaNcInG \n"
     ]
    }
   ],
   "source": [
    "# capatilize every other word \n",
    "res = [''] * len(st)  # create an empty list of length st\n",
    "res[::2] = st[::2].upper();  # 0+even-indexed words capitlized\n",
    "res[1::2] = st[1::2].lower(); # every odd-indexed words lowered \n",
    "res = ''.join(res) # joined together \n",
    "print(res)"
   ]
  },
  {
   "cell_type": "code",
   "execution_count": 38,
   "metadata": {},
   "outputs": [
    {
     "name": "stdout",
     "output_type": "stream",
     "text": [
      "[0, 1, 2, 3, 4, 5, 6, 7, 8, 9, 10, 11]\n",
      "12\n"
     ]
    },
    {
     "data": {
      "text/plain": [
       "['w', 'at is t', 'is']"
      ]
     },
     "execution_count": 38,
     "metadata": {},
     "output_type": "execute_result"
    }
   ],
   "source": [
    "lst = list(range(12))\n",
    "print(lst)\n",
    "print(len(lst))\n",
    "lst.count(9)\n",
    "ss = ''.join(str(lst))\n",
    "'#'.join(\"what is this\")\n",
    "('what is this').split( 'h')"
   ]
  },
  {
   "cell_type": "code",
   "execution_count": 39,
   "metadata": {},
   "outputs": [
    {
     "name": "stdout",
     "output_type": "stream",
     "text": [
      "what wgiw wow and we were not dancing \n"
     ]
    }
   ],
   "source": [
    "# if string ends with '!' convert to all caps; if not print in all lower case letter\n",
    "if st.endswith('!') == True:\n",
    "    print(st.upper())\n",
    "else:\n",
    "    print(st.lower())\n"
   ]
  },
  {
   "cell_type": "code",
   "execution_count": 40,
   "metadata": {},
   "outputs": [
    {
     "name": "stdout",
     "output_type": "stream",
     "text": [
      "wht Wgw ww nd w wr nt dncng \n"
     ]
    }
   ],
   "source": [
    "# remov all vowels with nothing and print without \n",
    "for letter in st:\n",
    "    if letter in 'aeiou':\n",
    "        st = st.replace(letter, '')\n",
    "print(st)"
   ]
  },
  {
   "cell_type": "code",
   "execution_count": 41,
   "metadata": {},
   "outputs": [
    {
     "name": "stdout",
     "output_type": "stream",
     "text": [
      "Enter your number: 8\n",
      "[0, 2, 4, 6]\n"
     ]
    }
   ],
   "source": [
    "# print even numbers less than user input \n",
    "n = int(input(\"Enter your number: \"))\n",
    "l = []\n",
    "for i in range(n):\n",
    "    if i % 2 == 0:\n",
    "        l.append(i)\n",
    "print(l)\n"
   ]
  },
  {
   "cell_type": "code",
   "execution_count": null,
   "metadata": {},
   "outputs": [],
   "source": []
  }
 ],
 "metadata": {
  "kernelspec": {
   "display_name": "Python 3",
   "language": "python",
   "name": "python3"
  },
  "language_info": {
   "codemirror_mode": {
    "name": "ipython",
    "version": 3
   },
   "file_extension": ".py",
   "mimetype": "text/x-python",
   "name": "python",
   "nbconvert_exporter": "python",
   "pygments_lexer": "ipython3",
   "version": "3.7.3"
  }
 },
 "nbformat": 4,
 "nbformat_minor": 2
}
